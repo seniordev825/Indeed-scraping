{
 "cells": [
  {
   "cell_type": "markdown",
   "metadata": {},
   "source": [
    "# Indeed Job Scraper\n",
    "\n",
    "### How it works:\n",
    "\n",
    "You provide a set of standard input parameters: \n",
    "- **search query**\n",
    "- **location**\n",
    "- **mile/range**\n",
    "\n",
    "in addition to two non-standard paramaters: \n",
    "- **ordered_keywords**: Job roles are rated based on this ordered list. This is a list of keywords to search for in job descriptions provided in order of preference. \n",
    "- **exclude_keywords**: A list of keywords to search for in a job _title_ which renders the rating of that job zero. E.g. if you really hate roles as a recruiter you would include: \"Recruitment\" or \"Headhunter\"\n",
    "- **title_keywords**: A list of keywords to search for in a job _title_ which, if matched for, increase the normalised rating. (Has precedence over \"ordered_keywords\")\n",
    "- **pages**: Number of Indeed pages to search. (Maximum that Indeed provides is 100)\n",
    "\n",
    "The web scraper searches through all the indeed job listings with those paramaters and returns a dataframe containing all the listings ordered by the \"rating\" metric based on the ordered list of keywords.\n",
    "\n",
    "You can also then output this dataframe as an excel sheet for convenience. "
   ]
  },
  {
   "cell_type": "code",
   "execution_count": 1,
   "metadata": {},
   "outputs": [],
   "source": [
    "# Imports\n",
    "from bs4 import BeautifulSoup\n",
    "import requests, json\n",
    "import pandas as pd"
   ]
  },
  {
   "cell_type": "code",
   "execution_count": 35,
   "metadata": {},
   "outputs": [],
   "source": [
    "# Scraping parameters\n",
    "default_parameters = {\n",
    "    'search_query':'Graduate Python',\n",
    "    'location':'E78DT',\n",
    "    'miles':15,\n",
    "    'ordered_keywords':['Investment','Banking','Finance','Hedge','Python','Fintech','SQL','Analysis','Modelling'],\n",
    "    'exclude_keywords':['Recruitment','Headhunter','Manager','Director','Senior'],\n",
    "    'title_keywords':['Graduate','Junior'],\n",
    "    'pages':100 \n",
    "}"
   ]
  },
  {
   "cell_type": "code",
   "execution_count": 36,
   "metadata": {},
   "outputs": [],
   "source": [
    "def create_url(parameters):\n",
    "    # create base url for all further searches\n",
    "    what = parameters['search_query'].replace(\" \",\"+\")\n",
    "    where = parameters['location'].replace(\" \",\"+\")\n",
    "    miles = parameters['miles']\n",
    "    base_url = f\"https://www.indeed.co.uk/jobs?q={what}&l={where}&radius={miles}\"\n",
    "    return base_url"
   ]
  },
  {
   "cell_type": "code",
   "execution_count": 37,
   "metadata": {},
   "outputs": [],
   "source": [
    "def rate_job(j_title, j_soup, parameters):\n",
    "    # rate job by keywords\n",
    "    description = j_soup.find(id=\"jobDescriptionText\").get_text()\n",
    "    keywords = parameters['ordered_keywords']\n",
    "    title_keywords = parameters['title_keywords']\n",
    "    exclude_keywords = parameters['exclude_keywords']\n",
    "    total_keywords = len(keywords) + len(title_keywords)\n",
    "    keywords_present = []\n",
    "    title_keywords_present = []\n",
    "    rating = 0\n",
    "    \n",
    "    # Check for keyword, add value to rating depending on ranking\n",
    "    for index,keyword in enumerate(keywords):\n",
    "        if keyword in description:\n",
    "            rating += len(keywords) - index\n",
    "            keywords_present.append(keyword)\n",
    "    \n",
    "    # Check for title keywords\n",
    "    for index,keyword in enumerate(title_keywords):\n",
    "        if keyword in j_title:\n",
    "            rating += total_keywords - index\n",
    "            title_keywords_present.append(keyword)\n",
    "    \n",
    "    # Normalise rating\n",
    "    rating = rating/sum(range(1,total_keywords+1))\n",
    "    \n",
    "    # Check for excluded keywords\n",
    "    for keyword in exclude_keywords:\n",
    "        if keyword in j_title:\n",
    "            rating = 0\n",
    "            break\n",
    "    \n",
    "    return description,rating,keywords_present,title_keywords_present"
   ]
  },
  {
   "cell_type": "code",
   "execution_count": 38,
   "metadata": {},
   "outputs": [],
   "source": [
    "def get_job_details(job,parameters):\n",
    "    \n",
    "    # Get link and title\n",
    "    job_url = job.find(class_='title').a['href']\n",
    "    \n",
    "    # Correct for truncated URLs\n",
    "    job_url = \"https://www.indeed.co.uk\" + job_url if (job_url.startswith(\"/\")) else job_url\n",
    "    job_page = requests.get(job_url)\n",
    "    job_soup = BeautifulSoup(job_page.content,'html.parser')\n",
    "    \n",
    "    # Give URL after redirect (ads/analytics etc.)\n",
    "    job_url = job_page.url \n",
    "    \n",
    "    # Get job title and company name\n",
    "    title = job.find(class_='title').a['title']\n",
    "    company = job_soup.find(class_=\"icl-u-lg-mr--sm\").get_text()\n",
    "    \n",
    "    # Get description, rating and present keywords\n",
    "    description, rating, keywords_present, title_keywords_present = rate_job(title,job_soup,parameters)\n",
    "    \n",
    "    return title, company, job_url, description, rating, keywords_present, title_keywords_present"
   ]
  },
  {
   "cell_type": "code",
   "execution_count": 39,
   "metadata": {},
   "outputs": [],
   "source": [
    "def scrape(parameters):\n",
    "    \n",
    "    # Create base url for all further searches\n",
    "    base_url = create_url(parameters)\n",
    "    \n",
    "    # Output list and frame\n",
    "    output = []\n",
    "    \n",
    "    for x in range(0,parameters['pages']):\n",
    "        if(x==0):\n",
    "            page_append = \"\"\n",
    "        else: \n",
    "            page_append = \"&start=\" + str(x*10)\n",
    "            \n",
    "        # get page\n",
    "        current_page = requests.get(base_url+page_append,timeout=5)\n",
    "        page_soup = BeautifulSoup(current_page.content,\"html.parser\")\n",
    "        \n",
    "        for job in page_soup.select(\".jobsearch-SerpJobCard\"):\n",
    "            title, company, url, description, rating, keywords_present, title_keywords_present = get_job_details(job,parameters)\n",
    "            output.append([rating,title,company,description,url,keywords_present,title_keywords_present,x+1])\n",
    "            \n",
    "        print(f\"Page {x+1} completed\",end=\"\\r\")\n",
    "        \n",
    "    df_output_frame = pd.DataFrame(\n",
    "        output,columns=['Rating','Job Title','Company','Description','Job URL','Keywords Present','Title Keywords','Page Found']).sort_values(\n",
    "        by='Rating',ascending=False).reset_index(drop=True)\n",
    "\n",
    "    return df_output_frame\n",
    "        "
   ]
  },
  {
   "cell_type": "code",
   "execution_count": 40,
   "metadata": {
    "scrolled": false
   },
   "outputs": [
    {
     "name": "stdout",
     "output_type": "stream",
     "text": [
      "Page 100 completed\r"
     ]
    }
   ],
   "source": [
    "jobs = scrape(default_parameters)"
   ]
  },
  {
   "cell_type": "code",
   "execution_count": 41,
   "metadata": {},
   "outputs": [
    {
     "data": {
      "text/html": [
       "<div>\n",
       "<style scoped>\n",
       "    .dataframe tbody tr th:only-of-type {\n",
       "        vertical-align: middle;\n",
       "    }\n",
       "\n",
       "    .dataframe tbody tr th {\n",
       "        vertical-align: top;\n",
       "    }\n",
       "\n",
       "    .dataframe thead th {\n",
       "        text-align: right;\n",
       "    }\n",
       "</style>\n",
       "<table border=\"1\" class=\"dataframe\">\n",
       "  <thead>\n",
       "    <tr style=\"text-align: right;\">\n",
       "      <th></th>\n",
       "      <th>Rating</th>\n",
       "      <th>Job Title</th>\n",
       "      <th>Company</th>\n",
       "      <th>Description</th>\n",
       "      <th>Job URL</th>\n",
       "      <th>Keywords Present</th>\n",
       "      <th>Title Keywords</th>\n",
       "      <th>Page Found</th>\n",
       "    </tr>\n",
       "  </thead>\n",
       "  <tbody>\n",
       "    <tr>\n",
       "      <th>0</th>\n",
       "      <td>0.636364</td>\n",
       "      <td>Junior Digital Developer -M/F-VIE-London</td>\n",
       "      <td>Société Générale</td>\n",
       "      <td>Responsibilities\\nKey purposes of the role:\\n\\...</td>\n",
       "      <td>https://www.indeed.co.uk/viewjob?jk=d92a67aec3...</td>\n",
       "      <td>[Investment, Banking, Finance, Python, SQL]</td>\n",
       "      <td>[Junior]</td>\n",
       "      <td>19</td>\n",
       "    </tr>\n",
       "    <tr>\n",
       "      <th>1</th>\n",
       "      <td>0.515152</td>\n",
       "      <td>Graduate Treasury Desk Support, Trade Finance,...</td>\n",
       "      <td>NDK Consulting</td>\n",
       "      <td>Graduate Treasury Desk Support, Trade Finance,...</td>\n",
       "      <td>https://www.indeed.co.uk/viewjob?cmp=NDK-Consu...</td>\n",
       "      <td>[Banking, Finance, Python, SQL]</td>\n",
       "      <td>[Graduate]</td>\n",
       "      <td>17</td>\n",
       "    </tr>\n",
       "    <tr>\n",
       "      <th>2</th>\n",
       "      <td>0.500000</td>\n",
       "      <td>Junior Data Scientist - Investment Banking</td>\n",
       "      <td>MThree Alumni</td>\n",
       "      <td>Job Description\\nLove using technology to solv...</td>\n",
       "      <td>https://www.indeed.co.uk/viewjob?jk=72a723be53...</td>\n",
       "      <td>[Investment, Banking, Python, Modelling]</td>\n",
       "      <td>[Junior]</td>\n",
       "      <td>2</td>\n",
       "    </tr>\n",
       "    <tr>\n",
       "      <th>3</th>\n",
       "      <td>0.500000</td>\n",
       "      <td>Junior Data Scientist</td>\n",
       "      <td>MThree Consulting</td>\n",
       "      <td>Love using technology to solve complex problem...</td>\n",
       "      <td>https://www.indeed.co.uk/viewjob?cmp=MThree-Co...</td>\n",
       "      <td>[Investment, Banking, Python, Modelling]</td>\n",
       "      <td>[Junior]</td>\n",
       "      <td>5</td>\n",
       "    </tr>\n",
       "    <tr>\n",
       "      <th>4</th>\n",
       "      <td>0.424242</td>\n",
       "      <td>Graduate Production Data Analyst Permanent</td>\n",
       "      <td>Working Smart Limited</td>\n",
       "      <td>A leading fully integrated exploration and pro...</td>\n",
       "      <td>https://www.indeed.co.uk/viewjob?jk=f880b16778...</td>\n",
       "      <td>[Finance, Python, SQL, Analysis]</td>\n",
       "      <td>[Graduate]</td>\n",
       "      <td>8</td>\n",
       "    </tr>\n",
       "  </tbody>\n",
       "</table>\n",
       "</div>"
      ],
      "text/plain": [
       "     Rating                                          Job Title  \\\n",
       "0  0.636364           Junior Digital Developer -M/F-VIE-London   \n",
       "1  0.515152  Graduate Treasury Desk Support, Trade Finance,...   \n",
       "2  0.500000         Junior Data Scientist - Investment Banking   \n",
       "3  0.500000                              Junior Data Scientist   \n",
       "4  0.424242         Graduate Production Data Analyst Permanent   \n",
       "\n",
       "                 Company                                        Description  \\\n",
       "0       Société Générale  Responsibilities\\nKey purposes of the role:\\n\\...   \n",
       "1         NDK Consulting  Graduate Treasury Desk Support, Trade Finance,...   \n",
       "2          MThree Alumni  Job Description\\nLove using technology to solv...   \n",
       "3      MThree Consulting  Love using technology to solve complex problem...   \n",
       "4  Working Smart Limited  A leading fully integrated exploration and pro...   \n",
       "\n",
       "                                             Job URL  \\\n",
       "0  https://www.indeed.co.uk/viewjob?jk=d92a67aec3...   \n",
       "1  https://www.indeed.co.uk/viewjob?cmp=NDK-Consu...   \n",
       "2  https://www.indeed.co.uk/viewjob?jk=72a723be53...   \n",
       "3  https://www.indeed.co.uk/viewjob?cmp=MThree-Co...   \n",
       "4  https://www.indeed.co.uk/viewjob?jk=f880b16778...   \n",
       "\n",
       "                              Keywords Present Title Keywords  Page Found  \n",
       "0  [Investment, Banking, Finance, Python, SQL]       [Junior]          19  \n",
       "1              [Banking, Finance, Python, SQL]     [Graduate]          17  \n",
       "2     [Investment, Banking, Python, Modelling]       [Junior]           2  \n",
       "3     [Investment, Banking, Python, Modelling]       [Junior]           5  \n",
       "4             [Finance, Python, SQL, Analysis]     [Graduate]           8  "
      ]
     },
     "metadata": {},
     "output_type": "display_data"
    }
   ],
   "source": [
    "display(jobs.head())"
   ]
  },
  {
   "cell_type": "markdown",
   "metadata": {},
   "source": [
    "# Output to Excel"
   ]
  },
  {
   "cell_type": "code",
   "execution_count": 43,
   "metadata": {
    "scrolled": false
   },
   "outputs": [],
   "source": [
    "with pd.ExcelWriter('Excel Output.xlsx',options={'strings_to_urls': False}) as writer:\n",
    "    jobs.to_excel(writer,index=False)"
   ]
  },
  {
   "cell_type": "markdown",
   "metadata": {},
   "source": [
    "# Example output"
   ]
  },
  {
   "cell_type": "markdown",
   "metadata": {},
   "source": [
    "<img src=\"img/Example_Output.PNG\">"
   ]
  }
 ],
 "metadata": {
  "kernelspec": {
   "display_name": "Python 3",
   "language": "python",
   "name": "python3"
  },
  "language_info": {
   "codemirror_mode": {
    "name": "ipython",
    "version": 3
   },
   "file_extension": ".py",
   "mimetype": "text/x-python",
   "name": "python",
   "nbconvert_exporter": "python",
   "pygments_lexer": "ipython3",
   "version": "3.6.5"
  },
  "varInspector": {
   "cols": {
    "lenName": 16,
    "lenType": 16,
    "lenVar": 40
   },
   "kernels_config": {
    "python": {
     "delete_cmd_postfix": "",
     "delete_cmd_prefix": "del ",
     "library": "var_list.py",
     "varRefreshCmd": "print(var_dic_list())"
    },
    "r": {
     "delete_cmd_postfix": ") ",
     "delete_cmd_prefix": "rm(",
     "library": "var_list.r",
     "varRefreshCmd": "cat(var_dic_list()) "
    }
   },
   "types_to_exclude": [
    "module",
    "function",
    "builtin_function_or_method",
    "instance",
    "_Feature"
   ],
   "window_display": false
  }
 },
 "nbformat": 4,
 "nbformat_minor": 2
}
